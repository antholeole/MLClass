{
 "cells": [
  {
   "cell_type": "code",
   "execution_count": 122,
   "metadata": {},
   "outputs": [],
   "source": [
    "import numpy.random\n",
    "\n",
    "N = 10\n",
    "X1 = numpy.vstack((numpy.random.normal(1, .1, N), \n",
    "                  numpy.random.normal(2, 1, N)))\n",
    "X2 = numpy.vstack((numpy.random.normal(1.1, 0.1, N), \n",
    "                  numpy.random.normal(3, 1, N)))"
   ]
  },
  {
   "cell_type": "code",
   "execution_count": 123,
   "metadata": {},
   "outputs": [
    {
     "data": {
      "text/plain": [
       "[<matplotlib.lines.Line2D at 0x7f84f478de10>]"
      ]
     },
     "execution_count": 123,
     "metadata": {},
     "output_type": "execute_result"
    },
    {
     "data": {
      "image/png": "[encoded data removed]",
      "text/plain": [
       "<Figure size 432x288 with 1 Axes>"
      ]
     },
     "metadata": {},
     "output_type": "display_data"
    }
   ],
   "source": [
    "import matplotlib.pyplot as plt\n",
    "\n",
    "plt.plot(X1[0], X1[1], '.r')\n",
    "plt.plot(X2[0], X2[1], '.b')"
   ]
  },
  {
   "cell_type": "code",
   "execution_count": 124,
   "metadata": {},
   "outputs": [
    {
     "name": "stdout",
     "output_type": "stream",
     "text": [
      "[[0.94046574 0.76994097 0.97614164 0.95884186 1.04156334 1.05795227\n",
      "  1.0585817  1.06154413 0.95212372 1.0340913  1.13304492 1.03660141\n",
      "  1.12566651 1.28838891 1.255895   1.07846277 1.13978583 1.10462614\n",
      "  1.10852879 1.03506151]\n",
      " [2.63817136 1.60916644 1.47795079 1.95724564 1.50069357 1.5588125\n",
      "  0.7409204  2.79787239 3.15553031 2.44049725 4.13074199 2.50991778\n",
      "  2.96808807 3.36884542 2.01311957 1.90135401 2.24256064 2.29315728\n",
      "  4.30049504 2.68121355]\n",
      " [1.         1.         1.         1.         1.         1.\n",
      "  1.         1.         1.         1.         1.         1.\n",
      "  1.         1.         1.         1.         1.         1.\n",
      "  1.         1.        ]] (3, 20)\n"
     ]
    }
   ],
   "source": [
    "# Each sample is 2-D\n",
    "X = numpy.hstack((X1, X2)) \n",
    "# now each row is a feature, each column is a sample\n",
    "X = numpy.vstack((X, numpy.ones(2*N))) # augment\n",
    "y = numpy.hstack((numpy.ones(N)*-1, 1*numpy.ones(N)))\n",
    "print (X, X.shape)"
   ]
  },
  {
   "cell_type": "code",
   "execution_count": 125,
   "metadata": {},
   "outputs": [
    {
     "data": {
      "text/plain": [
       "array([[ 22.62224544,  51.70814102,  21.15730845],\n",
       "       [ 51.70814102, 131.69693532,  48.286354  ],\n",
       "       [ 21.15730845,  48.286354  ,  20.        ]])"
      ]
     },
     "execution_count": 125,
     "metadata": {},
     "output_type": "execute_result"
    }
   ],
   "source": [
    "compound = numpy.matmul(X, numpy.transpose(X))\n",
    "compound"
   ]
  },
  {
   "cell_type": "code",
   "execution_count": 126,
   "metadata": {},
   "outputs": [],
   "source": [
    "import numpy.linalg"
   ]
  },
  {
   "cell_type": "code",
   "execution_count": 127,
   "metadata": {},
   "outputs": [
    {
     "data": {
      "text/plain": [
       "array([ 5.12841016,  0.35147048, -6.27372917])"
      ]
     },
     "execution_count": 127,
     "metadata": {},
     "output_type": "execute_result"
    }
   ],
   "source": [
    "all_but_y = numpy.matmul(numpy.linalg.inv(compound), X)\n",
    "W = numpy.matmul(all_but_y, y)\n",
    "W"
   ]
  },
  {
   "cell_type": "code",
   "execution_count": 128,
   "metadata": {},
   "outputs": [
    {
     "data": {
      "text/plain": [
       "array([-0.52339577, -1.75958158, -0.7482184 , -0.66848077, -0.40471566,\n",
       "       -0.30023944, -0.58447639,  0.15367408, -0.28177249, -0.11272212,\n",
       "        0.98882378, -0.07544999,  0.54234573,  1.5177073 ,  0.8745676 ,\n",
       "       -0.07465996,  0.3597539 ,  0.19722383,  0.92275818, -0.02314182])"
      ]
     },
     "execution_count": 128,
     "metadata": {},
     "output_type": "execute_result"
    }
   ],
   "source": [
    "numpy.matmul(W,X)"
   ]
  },
  {
   "cell_type": "code",
   "execution_count": 129,
   "metadata": {},
   "outputs": [
    {
     "name": "stdout",
     "output_type": "stream",
     "text": [
      "[0, 1.2233282789217375] [17.849946365099722, 0]\n"
     ]
    }
   ],
   "source": [
    "a,b,c=W[0], W[1], W[2]\n",
    "h = [0, -1*c/a]\n",
    "vd = [-1*c/b, 0]\n",
    "print (h, vd)"
   ]
  },
  {
   "cell_type": "code",
   "execution_count": 130,
   "metadata": {},
   "outputs": [
    {
     "data": {
      "text/plain": [
       "[<matplotlib.lines.Line2D at 0x7f84f46c3ac8>]"
      ]
     },
     "execution_count": 130,
     "metadata": {},
     "output_type": "execute_result"
    },
    {
     "data": {
      "image/png": "[encoded data removed]",
      "text/plain": [
       "<Figure size 432x288 with 1 Axes>"
      ]
     },
     "metadata": {},
     "output_type": "display_data"
    }
   ],
   "source": [
    "plt.plot(h, vd)"
   ]
  },
  {
   "cell_type": "code",
   "execution_count": null,
   "metadata": {},
   "outputs": [],
   "source": []
  },
  {
   "cell_type": "code",
   "execution_count": null,
   "metadata": {},
   "outputs": [],
   "source": []
  }
 ],
 "metadata": {
  "kernelspec": {
   "display_name": ".venv",
   "language": "python",
   "name": "python3"
  },
  "language_info": {
   "codemirror_mode": {
    "name": "ipython",
    "version": 3
   },
   "file_extension": ".py",
   "mimetype": "text/x-python",
   "name": "python",
   "nbconvert_exporter": "python",
   "pygments_lexer": "ipython3",
   "version": "3.10.9"
  },
  "vscode": {
   "interpreter": {
    "hash": "7743c124f920baa3364a6d58e08222c155b413f329bb4a4a3f3da735f53ff767"
   }
  }
 },
 "nbformat": 4,
 "nbformat_minor": 2
}
