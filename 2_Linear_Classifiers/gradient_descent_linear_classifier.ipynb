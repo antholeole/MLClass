{
 "cells": [
  {
   "cell_type": "code",
   "execution_count": 3,
   "metadata": {},
   "outputs": [],
   "source": [
    "from hw2 import generate_data\n",
    "import numpy "
   ]
  },
  {
   "cell_type": "code",
   "execution_count": 4,
   "metadata": {},
   "outputs": [
    {
     "name": "stdout",
     "output_type": "stream",
     "text": [
      "X=array([[1.13315865, 0.02227172],\n",
      "       [1.0715279 , 0.2566277 ],\n",
      "       [0.84545997, 2.26607016],\n",
      "       [0.99916162, 4.38496733],\n",
      "       [1.0621336 , 3.12369125],\n",
      "       [0.92799144, 3.67262221],\n",
      "       [1.02655116, 2.09914922],\n",
      "       [1.01085485, 3.39799638],\n",
      "       [1.00042914, 1.72875201],\n",
      "       [0.98253998, 2.61320418],\n",
      "       [1.04330262, 1.73268281],\n",
      "       [1.12030374, 1.45069099],\n",
      "       [0.90349343, 2.1327083 ],\n",
      "       [1.10282741, 1.52385799],\n",
      "       [1.02286301, 3.30847308],\n",
      "       [1.04451376, 2.19501328],\n",
      "       [0.88633978, 2.40020999],\n",
      "       [1.01351369, 1.66236766],\n",
      "       [1.1484537 , 3.25647226],\n",
      "       [0.89201951, 1.2680305 ],\n",
      "       [2.06602316, 5.10770823],\n",
      "       [1.96491281, 4.24454398],\n",
      "       [1.90605666, 3.93808797],\n",
      "       [1.95106628, 3.24610704],\n",
      "       [1.91954089, 4.71195902],\n",
      "       [1.97873024, 4.91826915],\n",
      "       [1.96608598, 3.51790686],\n",
      "       [2.03121699, 4.08958761],\n",
      "       [2.05651527, 4.82699862],\n",
      "       [1.98525797, 2.04548788],\n",
      "       [1.99740947, 4.11747566],\n",
      "       [2.02890942, 2.09254311],\n",
      "       [1.94601209, 3.07709074],\n",
      "       [2.070816  , 4.46975143],\n",
      "       [2.08422247, 3.85563324],\n",
      "       [2.02035808, 3.59986165],\n",
      "       [2.23947037, 3.70401615],\n",
      "       [2.09174589, 4.84820861],\n",
      "       [1.98877275, 4.70683045],\n",
      "       [1.96378196, 3.21273107],\n",
      "       [1.97678177, 4.29294072],\n",
      "       [1.94982711, 3.52919275],\n",
      "       [2.11287852, 6.40432561],\n",
      "       [1.930219  , 3.26064326],\n",
      "       [1.99188778, 3.68717124],\n",
      "       [1.94707039, 3.65111808],\n",
      "       [2.10461829, 3.56097376],\n",
      "       [1.8581444 , 4.14110417],\n",
      "       [1.96375008, 4.27304932],\n",
      "       [1.98780943, 2.38142925],\n",
      "       [2.03193564, 3.42688664],\n",
      "       [2.04609029, 2.67955245],\n",
      "       [1.97842101, 5.23620533],\n",
      "       [2.09890725, 6.46532508],\n",
      "       [2.03147538, 5.38323223],\n",
      "       [2.24676511, 4.34623312],\n",
      "       [1.84916785, 5.02251611],\n",
      "       [2.06206007, 4.16681027],\n",
      "       [1.89548675, 5.65671662],\n",
      "       [1.92019912, 4.66788961],\n",
      "       [2.19850846, 3.77005336],\n",
      "       [2.17448141, 2.87044881],\n",
      "       [1.81438145, 3.3600374 ],\n",
      "       [1.97772263, 4.31383052],\n",
      "       [1.99341522, 2.77416402],\n",
      "       [1.78682879, 3.77820686],\n",
      "       [1.99511695, 5.33992631],\n",
      "       [2.03933412, 4.02930971],\n",
      "       [2.02172651, 5.98538575],\n",
      "       [1.80056062, 5.4471656 ]]) Y=array([ 1.,  1.,  1.,  1.,  1.,  1.,  1.,  1.,  1.,  1.,  1.,  1.,  1.,\n",
      "        1.,  1.,  1.,  1.,  1.,  1.,  1., -1., -1., -1., -1., -1., -1.,\n",
      "       -1., -1., -1., -1., -1., -1., -1., -1., -1., -1., -1., -1., -1.,\n",
      "       -1., -1., -1., -1., -1., -1., -1., -1., -1., -1., -1., -1., -1.,\n",
      "       -1., -1., -1., -1., -1., -1., -1., -1., -1., -1., -1., -1., -1.,\n",
      "       -1., -1., -1., -1., -1.])\n"
     ]
    }
   ],
   "source": [
    "class1_paras = {'mx':1,'my':2, 'ux':0.1, 'uy':1, 'y':1, 'N':20}\n",
    "class2_paras = {'mx':2,'my':4, 'ux':.1, 'uy':1, 'y':-1, 'N':50}\n",
    "X, y = generate_data(class1_paras, class2_paras, seed=10)"
   ]
  },
  {
   "cell_type": "code",
   "execution_count": 5,
   "metadata": {},
   "outputs": [
    {
     "data": {
      "text/plain": [
       "-1.0"
      ]
     },
     "execution_count": 5,
     "metadata": {},
     "output_type": "execute_result"
    }
   ],
   "source": [
    "min(y)"
   ]
  },
  {
   "cell_type": "code",
   "execution_count": 6,
   "metadata": {},
   "outputs": [],
   "source": [
    "import matplotlib.pyplot"
   ]
  },
  {
   "cell_type": "code",
   "execution_count": 7,
   "metadata": {},
   "outputs": [
    {
     "data": {
      "text/plain": [
       "[<matplotlib.lines.Line2D at 0x10a721240>]"
      ]
     },
     "execution_count": 7,
     "metadata": {},
     "output_type": "execute_result"
    },
    {
     "data": {
      "image/png": "[encoded data removed]",
      "text/plain": [
       "<Figure size 640x480 with 1 Axes>"
      ]
     },
     "metadata": {},
     "output_type": "display_data"
    }
   ],
   "source": [
    "matplotlib.pyplot.plot(X[y==1,0], X[y==1,1], 'ro')\n",
    "matplotlib.pyplot.plot(X[y==-1,0], X[y==-1,1], 'bo')"
   ]
  },
  {
   "cell_type": "code",
   "execution_count": 8,
   "metadata": {},
   "outputs": [],
   "source": [
    "def compute_gradient(X, y, w):\n",
    "    \"\"\"\n",
    "    Compute the gradient of the MSE loss function. \n",
    "\n",
    "    X: N x D numpy array, each row is a sample, not augmented\n",
    "    y: 1-D numpy array, length N, labels for N samples \n",
    "    w: 1-D numpy array, length D+1, the last element of which is the bias term\n",
    "\n",
    "    \"\"\"\n",
    "    N = X.shape[0]    \n",
    "    X_augmented = numpy.hstack((X, numpy.ones((N,1)) )) # augment\n",
    "    A = numpy.matmul(X_augmented, w) - y  # this results in a 1-D array, not a column vector\n",
    "    gradient = X_augmented * A[:, numpy.newaxis]\n",
    "    # https://stackoverflow.com/questions/5795700\n",
    "    gradient = numpy.sum(gradient, axis=0)\n",
    "     \n",
    "    return gradient "
   ]
  },
  {
   "cell_type": "code",
   "execution_count": 9,
   "metadata": {},
   "outputs": [],
   "source": [
    "from hw2 import plot_data_hyperplane"
   ]
  },
  {
   "cell_type": "code",
   "execution_count": 15,
   "metadata": {},
   "outputs": [
    {
     "name": "stdout",
     "output_type": "stream",
     "text": [
      "[0.32947188 0.68738904 0.41317369]\n",
      "[0.84620452 1.80694344 0.68407272]\n",
      "[2.02180752 4.37660728 1.31679144]\n",
      "[ 4.70869408 10.27261568  2.77948987]\n",
      "[10.8621649  23.7987564   6.14605301]\n",
      "[24.96737069 54.82724017 13.87980352]\n",
      "[ 57.31253911 126.00336169  31.63121476]\n",
      "[131.49724093 289.27185573  72.36158119]\n",
      "[301.65516865 663.78575138 165.80206775]\n",
      "[ 691.96047397 1522.86330462  380.15127729]\n",
      "[1587.24907505 3493.45348663  871.84604805]\n",
      "[3640.88964232 8013.67835361 1999.72781299]\n",
      "[ 8351.60685395 18382.3630785   4586.92222167]\n",
      "[19157.23873796 42166.49230894 10521.54968833]\n",
      "[43943.64350491 96723.53534214 24134.66064353]\n",
      "[100799.73611042 221868.78907998  55361.00166989]\n",
      "[231218.63443008 508932.26484128 126989.31449299]\n",
      "[ 530379.00646456 1167410.60377929  291293.37832995]\n",
      "[1216605.70477367 2677856.05833204  668180.99794487]\n",
      "[2790701.50635171 6142579.70161217 1532701.76528812]\n",
      "[ 6401428.99367541 14090109.27590328  3515776.06273952]\n",
      "[14683868.34505249 32320488.61587703  8064635.73703561]\n",
      "[33682477.87765862 74138103.47991505 18499002.38332966]\n",
      "[7.72622916e+07 1.70061116e+08 4.24337937e+07]\n",
      "[1.77227511e+08 3.90093379e+08 9.73364301e+07]\n",
      "[4.06531957e+08 8.94812685e+08 2.23274418e+08]\n",
      "[9.32520190e+08 2.05255917e+09 5.12156301e+08]\n",
      "[2.13905424e+09 4.70824699e+09 1.17480577e+09]\n",
      "[4.90665304e+09 1.07999760e+10 2.69481915e+09]\n",
      "[1.12550882e+10 2.47734416e+10 6.18149011e+09]\n",
      "[2.58173971e+10 5.68263676e+10 1.41793633e+10]\n",
      "[5.92210370e+10 1.30350724e+11 3.25252231e+10]\n",
      "[1.35843718e+11 2.99004003e+11 7.46077318e+10]\n",
      "[3.11604064e+11 6.85868022e+11 1.71138369e+11]\n",
      "[7.14770576e+11 1.57327307e+12 3.92564427e+11]\n",
      "[1.63957097e+12 3.60884027e+12 9.00480880e+11]\n",
      "[3.76091720e+12 8.27811039e+12 2.06556111e+12]\n",
      "[8.62695087e+12 1.89886796e+13 4.73807140e+12]\n",
      "[1.97888646e+13 4.35570360e+13 1.08683885e+13]\n",
      "[4.53925343e+13 9.99129707e+13 2.49303690e+13]\n",
      "[1.04123314e+14 2.29184596e+14 5.71863345e+13]\n",
      "[2.38842460e+14 5.25713316e+14 1.31176432e+14]\n",
      "[5.47866933e+14 1.20590343e+15 3.00898045e+14]\n",
      "[1.25672033e+15 2.76615227e+15 6.90212656e+14]\n",
      "[2.88271823e+15 6.34511703e+15 1.58323897e+15]\n",
      "[6.61250095e+15 1.45546977e+16 3.63170049e+15]\n",
      "[1.51680342e+16 3.33861809e+16 8.33054812e+15]\n",
      "[3.47930782e+16 7.65826332e+16 1.91089635e+16]\n",
      "[7.98098338e+16 1.75668482e+17 4.38329483e+16]\n",
      "[1.83071171e+17 4.02955790e+17 1.00545870e+17]\n"
     ]
    }
   ],
   "source": [
    "# w = numpy.random.rand(3)\n",
    "w = [0.1, 0.2, 0.3]\n",
    "for _ in range(50):\n",
    "    gradient = compute_gradient(X, y, w)\n",
    "    w = w + 0.001 * gradient\n",
    "    print(w)\n",
    "    plot_data_hyperplane(X, y, w, f\"learning_visual/learn_{str(_).zfill(3)}.png\")"
   ]
  },
  {
   "cell_type": "code",
   "execution_count": null,
   "metadata": {},
   "outputs": [],
   "source": []
  },
  {
   "cell_type": "code",
   "execution_count": null,
   "metadata": {},
   "outputs": [],
   "source": []
  },
  {
   "cell_type": "code",
   "execution_count": null,
   "metadata": {},
   "outputs": [],
   "source": []
  },
  {
   "cell_type": "markdown",
   "metadata": {},
   "source": []
  }
 ],
 "metadata": {
  "kernelspec": {
   "display_name": ".venv",
   "language": "python",
   "name": "python3"
  },
  "language_info": {
   "codemirror_mode": {
    "name": "ipython",
    "version": 3
   },
   "file_extension": ".py",
   "mimetype": "text/x-python",
   "name": "python",
   "nbconvert_exporter": "python",
   "pygments_lexer": "ipython3",
   "version": "3.10.9"
  },
  "orig_nbformat": 4
 },
 "nbformat": 4,
 "nbformat_minor": 2
}
