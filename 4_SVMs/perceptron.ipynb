{
 "cells": [
  {
   "cell_type": "markdown",
   "metadata": {},
   "source": [
    "# Single-sample perceptron algorithm demo\n",
    "\n",
    "574/474 Machine Learning \n",
    "\n",
    "Dept. of Computer Science\n",
    "\n",
    "Iowa State University\n",
    "\n",
    "Copyright (C) 2020 Forrest Sheng Bao\n",
    "\n",
    "GNU GPL v.3 "
   ]
  },
  {
   "cell_type": "code",
   "execution_count": 5,
   "metadata": {},
   "outputs": [],
   "source": [
    "import numpy"
   ]
  },
  {
   "cell_type": "code",
   "execution_count": 6,
   "metadata": {},
   "outputs": [
    {
     "name": "stdout",
     "output_type": "stream",
     "text": [
      "prediction vs label: [ 1.  1.  1. -1.] vs. [ 1  1 -1 -1]\n",
      "[ True  True False  True]\n"
     ]
    },
    {
     "data": {
      "text/plain": [
       "False"
      ]
     },
     "execution_count": 6,
     "metadata": {},
     "output_type": "execute_result"
    }
   ],
   "source": [
    "def judge(w, X, y):\n",
    "    \"\"\"Judge whether all samples in X are properly classified\n",
    "    \n",
    "    w: the weight vector of the classifier\n",
    "    X: all training samples, no augmented. Each ROW is a sample. \n",
    "    y: labels\n",
    "    \n",
    "    \"\"\"\n",
    "    N, _ = X.shape \n",
    "    X = X.transpose() # reorg samples from row-wise to column-wise\n",
    "    X = numpy.vstack((X, numpy.ones((1, N)))) # augment\n",
    "    X = X*y # normalize, add the label on\n",
    "    \n",
    "#     print (X)\n",
    "    \n",
    "    y_hat = w.dot(X) \n",
    "#     print (y_hat)\n",
    "    \n",
    "    result = y_hat > 0 \n",
    "    \n",
    "    print (\"prediction vs label:\", y_hat/y, \"vs.\", y)\n",
    "    print (result)\n",
    "    return result.all()\n",
    "\n",
    "\n",
    "w = numpy.array([10,-2,1])\n",
    "X = numpy.array([[1,0],[0,0], [1,1], [0,1]])\n",
    "y = numpy.array([1,1,-1,-1])\n",
    "judge(w, X, y)"
   ]
  },
  {
   "cell_type": "code",
   "execution_count": 7,
   "metadata": {},
   "outputs": [],
   "source": [
    "def one_iteration(w, x, y): \n",
    "    \"\"\"Update the weight vector in i-th iteration\n",
    "    \n",
    "    x: 1-D numpy array, one sample, no augmented. \n",
    "    y: int, x's label\n",
    "    w: the weight vector\n",
    "    \n",
    "    returns: w (updated or intacted)\n",
    "    \"\"\"\n",
    "    x = numpy.append(x, 1) # augment \n",
    "    prediction = w.dot(x)*y\n",
    "    \n",
    "    if prediction > 0 :\n",
    "        print (\"Hit,  keep   w as\", end=\" \")\n",
    "        return w\n",
    "    else:\n",
    "        gradient = -1 * y * x \n",
    "        print (\"Miss, update w to\", end=\" \")\n",
    "        return w - gradient # update by subtracting the gradient. \n",
    "      "
   ]
  },
  {
   "cell_type": "code",
   "execution_count": 8,
   "metadata": {},
   "outputs": [],
   "source": [
    "def perceptron(w, X, y):\n",
    "    \"\"\"\n",
    "    \n",
    "    w: the weight vector of the classifier\n",
    "    X: all training samples, no augmented. Each ROW is a sample. \n",
    "    y: labels\n",
    "    \n",
    "    \"\"\"\n",
    "    \n",
    "    k = 0   # counter \n",
    "    N, _ = X.shape # number of samples \n",
    "    while not judge(w, X, y):\n",
    "        print (\"iteration #\", str(k+1).zfill(2), end=\": \")\n",
    "        j = k % N # index of the sample used in this iteration \n",
    "        print (\"sample index\", j, end=\". \")\n",
    "        w = one_iteration(w, X[j], y[j])\n",
    "        print (w)\n",
    "        k += 1 \n",
    "        print (\" \")\n",
    "        \n",
    "    return w         "
   ]
  },
  {
   "cell_type": "code",
   "execution_count": 12,
   "metadata": {},
   "outputs": [
    {
     "name": "stdout",
     "output_type": "stream",
     "text": [
      "prediction vs label: [0. 0. 0. 0.] vs. [ 1  1 -1 -1]\n",
      "[False False False False]\n",
      "iteration # 01: sample index 0. Miss, update w to [0 0 1]\n",
      " \n",
      "prediction vs label: [1. 1. 1. 1.] vs. [ 1  1 -1 -1]\n",
      "[ True  True False False]\n",
      "iteration # 02: sample index 1. Hit,  keep   w as [0 0 1]\n",
      " \n",
      "prediction vs label: [1. 1. 1. 1.] vs. [ 1  1 -1 -1]\n",
      "[ True  True False False]\n",
      "iteration # 03: sample index 2. Miss, update w to [-1 -1  0]\n",
      " \n",
      "prediction vs label: [ 0. -1. -1. -1.] vs. [ 1  1 -1 -1]\n",
      "[False False  True  True]\n",
      "iteration # 04: sample index 3. Hit,  keep   w as [-1 -1  0]\n",
      " \n",
      "prediction vs label: [ 0. -1. -1. -1.] vs. [ 1  1 -1 -1]\n",
      "[False False  True  True]\n",
      "iteration # 05: sample index 0. Miss, update w to [-1 -1  1]\n",
      " \n",
      "prediction vs label: [ 1.  0. -1.  0.] vs. [ 1  1 -1 -1]\n",
      "[ True False  True False]\n",
      "iteration # 06: sample index 1. Miss, update w to [-1  0  2]\n",
      " \n",
      "prediction vs label: [1. 1. 1. 1.] vs. [ 1  1 -1 -1]\n",
      "[ True  True False False]\n",
      "iteration # 07: sample index 2. Miss, update w to [-2 -1  1]\n",
      " \n",
      "prediction vs label: [ 1.  0. -1. -1.] vs. [ 1  1 -1 -1]\n",
      "[ True False  True  True]\n",
      "iteration # 08: sample index 3. Hit,  keep   w as [-2 -1  1]\n",
      " \n",
      "prediction vs label: [ 1.  0. -1. -1.] vs. [ 1  1 -1 -1]\n",
      "[ True False  True  True]\n",
      "iteration # 09: sample index 0. Hit,  keep   w as [-2 -1  1]\n",
      " \n",
      "prediction vs label: [ 1.  0. -1. -1.] vs. [ 1  1 -1 -1]\n",
      "[ True False  True  True]\n",
      "iteration # 10: sample index 1. Miss, update w to [-2  0  2]\n",
      " \n",
      "prediction vs label: [1. 1. 0. 0.] vs. [ 1  1 -1 -1]\n",
      "[ True  True False False]\n",
      "iteration # 11: sample index 2. Miss, update w to [-3 -1  1]\n",
      " \n",
      "prediction vs label: [ 1.  0. -1. -1.] vs. [ 1  1 -1 -1]\n",
      "[ True False  True  True]\n",
      "iteration # 12: sample index 3. Hit,  keep   w as [-3 -1  1]\n",
      " \n",
      "prediction vs label: [ 1.  0. -1. -1.] vs. [ 1  1 -1 -1]\n",
      "[ True False  True  True]\n",
      "iteration # 13: sample index 0. Hit,  keep   w as [-3 -1  1]\n",
      " \n",
      "prediction vs label: [ 1.  0. -1. -1.] vs. [ 1  1 -1 -1]\n",
      "[ True False  True  True]\n",
      "iteration # 14: sample index 1. Miss, update w to [-3  0  2]\n",
      " \n",
      "prediction vs label: [ 1.  1. -1. -1.] vs. [ 1  1 -1 -1]\n",
      "[ True  True  True  True]\n"
     ]
    },
    {
     "data": {
      "text/plain": [
       "array([-3,  0,  2])"
      ]
     },
     "execution_count": 12,
     "metadata": {},
     "output_type": "execute_result"
    }
   ],
   "source": [
    "# Run an example \n",
    "\n",
    "w = numpy.array([0, 0, 0])\n",
    "X = numpy.array([[0,0],[0,1], [1,1], [1,0]])\n",
    "y = numpy.array([1,1,-1,-1])\n",
    "\n",
    "perceptron(w, X, y)"
   ]
  },
  {
   "cell_type": "code",
   "execution_count": 10,
   "metadata": {},
   "outputs": [
    {
     "name": "stdout",
     "output_type": "stream",
     "text": [
      "prediction vs label: [ 1.  1. -1. -1.] vs. [ 1  1 -1 -1]\n",
      "[ True  True  True  True]\n"
     ]
    },
    {
     "data": {
      "text/plain": [
       "True"
      ]
     },
     "execution_count": 10,
     "metadata": {},
     "output_type": "execute_result"
    }
   ],
   "source": [
    "judge(numpy.array([-2, 0, 1]), X, y)"
   ]
  },
  {
   "cell_type": "code",
   "execution_count": null,
   "metadata": {},
   "outputs": [],
   "source": []
  }
 ],
 "metadata": {
  "interpreter": {
   "hash": "31f2aee4e71d21fbe5cf8b01ff0e069b9275f58929596ceb00d14d90e3e16cd6"
  },
  "kernelspec": {
   "display_name": "Python 3",
   "language": "python",
   "name": "python3"
  },
  "language_info": {
   "codemirror_mode": {
    "name": "ipython",
    "version": 3
   },
   "file_extension": ".py",
   "mimetype": "text/x-python",
   "name": "python",
   "nbconvert_exporter": "python",
   "pygments_lexer": "ipython3",
   "version": "3.8.9"
  }
 },
 "nbformat": 4,
 "nbformat_minor": 2
}
